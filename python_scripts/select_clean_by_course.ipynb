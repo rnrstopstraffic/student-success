{
 "cells": [
  {
   "cell_type": "code",
   "execution_count": 1,
   "id": "25ad19d8",
   "metadata": {},
   "outputs": [],
   "source": [
    "import pandas as pd\n",
    "import numpy as np"
   ]
  },
  {
   "cell_type": "code",
   "execution_count": 2,
   "id": "68b64da2",
   "metadata": {},
   "outputs": [],
   "source": [
    "#Slices the data to select only those course attempts for the given course\n",
    "def crs_select():\n",
    "    print('The available courses are ' + ', '.join(df['COURSE'].sort_values().unique()))\n",
    "    crs = input('Please enter which course you would like to analyze: ')\n",
    "    \n",
    "    while crs not in df['COURSE'].unique():\n",
    "        crs = input('Please enter a valid course:')\n",
    "        \n",
    "    dfCourse = df[df['COURSE']==crs]    \n",
    "    return dfCourse, crs"
   ]
  },
  {
   "cell_type": "code",
   "execution_count": 3,
   "id": "825f5f71",
   "metadata": {},
   "outputs": [],
   "source": [
    "#Load student success dataset. This dataset is artificially generated based on actual student \n",
    "#success data so as to avoid any concerns over FERPA violations or other misuse.\n",
    "\n",
    "df = pd.read_csv('../data/artificial_student_success_data.csv', low_memory = False)\n",
    "\n",
    "df = df[['STRM', 'ID', 'SUBJECT_CD', 'CRSE_NUM', 'OFFICIAL_GRADE', 'HOUSE_INCOME_DESCR', 'Race', 'GENDER', 'TERM_AGE', 'FIRST_GENERATION', 'max_HS_GPA']]"
   ]
  },
  {
   "cell_type": "code",
   "execution_count": 4,
   "id": "e49a85d9",
   "metadata": {},
   "outputs": [],
   "source": [
    "#Create a single column which contains the entire course information\n",
    "\n",
    "course = df.apply(lambda x: x['SUBJECT_CD']+str(x['CRSE_NUM']), axis = 1)\n",
    "\n",
    "df.insert(3, 'COURSE', course)\n",
    "\n",
    "df = df.drop(['SUBJECT_CD', 'CRSE_NUM'], axis = 1)"
   ]
  },
  {
   "cell_type": "code",
   "execution_count": 5,
   "id": "0e8cfa0a",
   "metadata": {},
   "outputs": [
    {
     "name": "stdout",
     "output_type": "stream",
     "text": [
      "The available courses are MATH10, MATH100, MATH104, MATH110, MATH120, MATH125, MATH129, MATH131, MATH132, MATH133, MATH145, MATH25, MATH300, MATH310, MATH32, MATH320, MATH330, MATH340, MATH342, MATH355, MATH356, MATH370, MATH372, MATH373, MATH400, MATH401, MATH402, MATH41, MATH410, MATH42, MATH420, MATHS45, MATHS72, MATHS73, MATHS95, STAT10, STAT105, STAT300, STAT305\n",
      "Please enter which course you would like to analyze:STAT300\n"
     ]
    }
   ],
   "source": [
    "#Select which course we want to analyze\n",
    "\n",
    "dfCrs, course = crs_select()"
   ]
  },
  {
   "cell_type": "code",
   "execution_count": 6,
   "id": "279b5139",
   "metadata": {},
   "outputs": [],
   "source": [
    "#Identify first attempts at the course and removes others\n",
    "\n",
    "first_att = dfCrs.groupby(['ID'], sort = False)['STRM'].transform(min) == dfCrs['STRM']\n",
    "\n",
    "dfCrs = dfCrs[first_att]"
   ]
  },
  {
   "cell_type": "code",
   "execution_count": 7,
   "id": "237c21bf",
   "metadata": {},
   "outputs": [],
   "source": [
    "#Removes the occasional second attempt in the same term (this can happen if a student takes an 8 week course)\n",
    "\n",
    "dfCrs = dfCrs.drop_duplicates(subset = ['ID', 'STRM'])"
   ]
  },
  {
   "cell_type": "code",
   "execution_count": 8,
   "id": "86514634",
   "metadata": {},
   "outputs": [],
   "source": [
    "#Removes attempts which result in grade of EW\n",
    "\n",
    "dfCrs = dfCrs[dfCrs['OFFICIAL_GRADE'] != 'EW']"
   ]
  },
  {
   "cell_type": "code",
   "execution_count": 9,
   "id": "7d93239c",
   "metadata": {},
   "outputs": [],
   "source": [
    "#Replace NaN GPA rows with the mean\n",
    "\n",
    "dfCrs['max_HS_GPA'].fillna(value=df['max_HS_GPA'].mean(), inplace=True)"
   ]
  },
  {
   "cell_type": "code",
   "execution_count": 10,
   "id": "41c62563",
   "metadata": {},
   "outputs": [],
   "source": [
    "#Pickle the data for future analysis\n",
    "\n",
    "dfCrs.to_pickle('../data/'+course+'_clean.pkl')"
   ]
  }
 ],
 "metadata": {
  "kernelspec": {
   "display_name": "Python 3",
   "language": "python",
   "name": "python3"
  },
  "language_info": {
   "codemirror_mode": {
    "name": "ipython",
    "version": 3
   },
   "file_extension": ".py",
   "mimetype": "text/x-python",
   "name": "python",
   "nbconvert_exporter": "python",
   "pygments_lexer": "ipython3",
   "version": "3.8.10"
  }
 },
 "nbformat": 4,
 "nbformat_minor": 5
}
